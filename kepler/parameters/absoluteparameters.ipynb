{
 "cells": [
  {
   "cell_type": "code",
   "execution_count": 1,
   "id": "bfa8a81f",
   "metadata": {},
   "outputs": [],
   "source": [
    "import numpy as np"
   ]
  },
  {
   "cell_type": "code",
   "execution_count": 2,
   "id": "7ad86c4e",
   "metadata": {},
   "outputs": [
    {
     "name": "stdout",
     "output_type": "stream",
     "text": [
      "MV =  4.752646968159941\n"
     ]
    }
   ],
   "source": [
    "period = 0.3034224\n",
    "if period < 0.575 and period > 0.275:\n",
    "    MV = 3.73-8.67*(np.log10(period)+0.4)\n",
    "else:\n",
    "    MV = 1.90-4.85*(np.log10(period)+0.15)\n",
    "    \n",
    "print('MV = ', MV)"
   ]
  },
  {
   "cell_type": "code",
   "execution_count": 3,
   "id": "e8328b92",
   "metadata": {},
   "outputs": [
    {
     "name": "stdout",
     "output_type": "stream",
     "text": [
      "Ltotal =  1.073844044097519\n"
     ]
    }
   ],
   "source": [
    "Ltotal = 10**(-0.4*(MV-4.83))\n",
    "print('Ltotal = ', Ltotal)"
   ]
  },
  {
   "cell_type": "code",
   "execution_count": 4,
   "id": "b7f5c91e",
   "metadata": {},
   "outputs": [],
   "source": [
    "pdlic = 2.1228283617832497\n",
    "pr1 = 0.2791222412119846\n",
    "pr2 =  0.5073346096180089\n",
    "T1 = 5200\n",
    "T2 = 5047"
   ]
  },
  {
   "cell_type": "code",
   "execution_count": 5,
   "id": "063b3dc8",
   "metadata": {},
   "outputs": [
    {
     "name": "stdout",
     "output_type": "stream",
     "text": [
      "L1 =  0.3438690570506778\n",
      "L2 =  0.7299749870468412\n"
     ]
    }
   ],
   "source": [
    "L1 = Ltotal/(pdlic+1)\n",
    "L2 = pdlic*L1\n",
    "print('L1 = ', L1)\n",
    "print('L2 = ', L2)"
   ]
  },
  {
   "cell_type": "code",
   "execution_count": 6,
   "id": "41233173",
   "metadata": {},
   "outputs": [
    {
     "name": "stdout",
     "output_type": "stream",
     "text": [
      "Ar1 =  0.7295345235714619\n",
      "SMA =  2.613673924384275\n"
     ]
    }
   ],
   "source": [
    "Ar = L1/((T1/5800)**4)\n",
    "Ar1 = np.sqrt(Ar)\n",
    "A1 = Ar1/pr1\n",
    "print('Ar1 = ', Ar1)\n",
    "print('SMA = ', A1)"
   ]
  },
  {
   "cell_type": "code",
   "execution_count": 7,
   "id": "c1741937",
   "metadata": {},
   "outputs": [
    {
     "name": "stdout",
     "output_type": "stream",
     "text": [
      "Ar2 =  1.1283487891453017\n",
      "SMA =  2.22407217594494\n"
     ]
    }
   ],
   "source": [
    "Ar = L2/((T2/5800)**4)\n",
    "Ar2 = np.sqrt(Ar)\n",
    "A2 = Ar2/pr2\n",
    "print('Ar2 = ', Ar2)\n",
    "print('SMA = ', A2)\n",
    "A = (A1+A2)/2"
   ]
  },
  {
   "cell_type": "code",
   "execution_count": 8,
   "id": "88fa68b3",
   "metadata": {},
   "outputs": [
    {
     "name": "stdout",
     "output_type": "stream",
     "text": [
      "M1andM2 =  2.0634201936174024\n"
     ]
    }
   ],
   "source": [
    "M1andM2  =  A **3/(period**2)/74.5\n",
    "print('M1andM2 = ', M1andM2)"
   ]
  },
  {
   "cell_type": "code",
   "execution_count": 9,
   "id": "f1bcf2e1",
   "metadata": {},
   "outputs": [
    {
     "name": "stdout",
     "output_type": "stream",
     "text": [
      "M1 =  0.4293000771444984\n",
      "M2 =  1.634120116472904\n"
     ]
    }
   ],
   "source": [
    "q = 3.8064752453395774\n",
    "M1 = M1andM2/(1+q)\n",
    "M2 = q*M1\n",
    "print('M1 = ', M1)\n",
    "print('M2 = ', M2)"
   ]
  }
 ],
 "metadata": {
  "kernelspec": {
   "display_name": "Python 3 (ipykernel)",
   "language": "python",
   "name": "python3"
  },
  "language_info": {
   "codemirror_mode": {
    "name": "ipython",
    "version": 3
   },
   "file_extension": ".py",
   "mimetype": "text/x-python",
   "name": "python",
   "nbconvert_exporter": "python",
   "pygments_lexer": "ipython3",
   "version": "3.9.7"
  }
 },
 "nbformat": 4,
 "nbformat_minor": 5
}
